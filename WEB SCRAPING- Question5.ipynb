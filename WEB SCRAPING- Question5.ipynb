{
 "cells": [
  {
   "cell_type": "code",
   "execution_count": 1,
   "id": "01671cea",
   "metadata": {},
   "outputs": [],
   "source": [
    "#5.Write a python program to scrape cricket rankings from ‘www.icc-cricket.com’"
   ]
  },
  {
   "cell_type": "code",
   "execution_count": 2,
   "id": "8031b0fc",
   "metadata": {},
   "outputs": [],
   "source": [
    "#5(1).Top 10 ODI teams in men’s cricket along with the records for matches, points and rating.\n"
   ]
  },
  {
   "cell_type": "code",
   "execution_count": 3,
   "id": "d1188a82",
   "metadata": {},
   "outputs": [],
   "source": [
    "import pandas as pd\n",
    "import requests\n",
    "from bs4 import BeautifulSoup\n"
   ]
  },
  {
   "cell_type": "code",
   "execution_count": 4,
   "id": "024f26d1",
   "metadata": {},
   "outputs": [],
   "source": [
    "url = \"https://www.icc-cricket.com/rankings/mens/team-rankings/odi\"\n",
    "response = requests.get(url)\n",
    "soup = BeautifulSoup(response.content, 'html.parser')"
   ]
  },
  {
   "cell_type": "code",
   "execution_count": 5,
   "id": "e6df9567",
   "metadata": {},
   "outputs": [
    {
     "data": {
      "text/plain": [
       "<Response [200]>"
      ]
     },
     "execution_count": 5,
     "metadata": {},
     "output_type": "execute_result"
    }
   ],
   "source": [
    "response"
   ]
  },
  {
   "cell_type": "code",
   "execution_count": 6,
   "id": "50429422",
   "metadata": {},
   "outputs": [],
   "source": [
    "team_name = []\n",
    "matches = []\n",
    "points = []\n",
    "rating = []"
   ]
  },
  {
   "cell_type": "code",
   "execution_count": 7,
   "id": "975ca3b1",
   "metadata": {},
   "outputs": [],
   "source": [
    "odi_dataA = soup.findAll('div', attrs= {'class': 'rankings-block__container full rankings-table'})\n"
   ]
  },
  {
   "cell_type": "code",
   "execution_count": 8,
   "id": "bc130cd0",
   "metadata": {},
   "outputs": [],
   "source": [
    "for store in odi_dataA:\n",
    "    name = store.find('span',class_ = 'u-hide-phablet').text\n",
    "    team_name.append(name)\n",
    "    \n",
    "    game = store.find('td',class_ = 'rankings-block__banner--matches').text\n",
    "    matches.append(game)\n",
    "    \n",
    "    score = store.find('td',class_ = 'rankings-block__banner--points').text\n",
    "    points.append(score)\n",
    "    \n",
    "    rate = store.find('td',class_ = 'rankings-block__banner--rating u-text-right').text.strip()\n",
    "    rating.append(rate)"
   ]
  },
  {
   "cell_type": "code",
   "execution_count": 9,
   "id": "c791137e",
   "metadata": {},
   "outputs": [
    {
     "data": {
      "text/plain": [
       "'New Zealand'"
      ]
     },
     "execution_count": 9,
     "metadata": {},
     "output_type": "execute_result"
    }
   ],
   "source": [
    "name\n",
    "    "
   ]
  },
  {
   "cell_type": "code",
   "execution_count": 10,
   "id": "042d793e",
   "metadata": {},
   "outputs": [
    {
     "data": {
      "text/plain": [
       "'17'"
      ]
     },
     "execution_count": 10,
     "metadata": {},
     "output_type": "execute_result"
    }
   ],
   "source": [
    "game"
   ]
  },
  {
   "cell_type": "code",
   "execution_count": 11,
   "id": "6a4481cb",
   "metadata": {},
   "outputs": [
    {
     "data": {
      "text/plain": [
       "'2,054'"
      ]
     },
     "execution_count": 11,
     "metadata": {},
     "output_type": "execute_result"
    }
   ],
   "source": [
    "score"
   ]
  },
  {
   "cell_type": "code",
   "execution_count": 12,
   "id": "6489b085",
   "metadata": {},
   "outputs": [
    {
     "data": {
      "text/plain": [
       "'121'"
      ]
     },
     "execution_count": 12,
     "metadata": {},
     "output_type": "execute_result"
    }
   ],
   "source": [
    "rate"
   ]
  },
  {
   "cell_type": "code",
   "execution_count": 13,
   "id": "bac9d125",
   "metadata": {},
   "outputs": [
    {
     "name": "stdout",
     "output_type": "stream",
     "text": [
      "1\n",
      "1\n",
      "1\n",
      "1\n"
     ]
    }
   ],
   "source": [
    "print(len(team_name))\n",
    "print(len(matches))\n",
    "print(len(points))\n",
    "print(len(rating))\n"
   ]
  },
  {
   "cell_type": "code",
   "execution_count": 14,
   "id": "4b7cd727",
   "metadata": {},
   "outputs": [],
   "source": [
    "DF1 = pd.DataFrame({'Name of the Team': team_name, 'Matches played': matches, 'Point': points, 'Rating': rating})"
   ]
  },
  {
   "cell_type": "code",
   "execution_count": 15,
   "id": "ba552e14",
   "metadata": {},
   "outputs": [
    {
     "data": {
      "text/html": [
       "<div>\n",
       "<style scoped>\n",
       "    .dataframe tbody tr th:only-of-type {\n",
       "        vertical-align: middle;\n",
       "    }\n",
       "\n",
       "    .dataframe tbody tr th {\n",
       "        vertical-align: top;\n",
       "    }\n",
       "\n",
       "    .dataframe thead th {\n",
       "        text-align: right;\n",
       "    }\n",
       "</style>\n",
       "<table border=\"1\" class=\"dataframe\">\n",
       "  <thead>\n",
       "    <tr style=\"text-align: right;\">\n",
       "      <th></th>\n",
       "      <th>Name of the Team</th>\n",
       "      <th>Matches played</th>\n",
       "      <th>Point</th>\n",
       "      <th>Rating</th>\n",
       "    </tr>\n",
       "  </thead>\n",
       "  <tbody>\n",
       "    <tr>\n",
       "      <th>0</th>\n",
       "      <td>New Zealand</td>\n",
       "      <td>17</td>\n",
       "      <td>2,054</td>\n",
       "      <td>121</td>\n",
       "    </tr>\n",
       "  </tbody>\n",
       "</table>\n",
       "</div>"
      ],
      "text/plain": [
       "  Name of the Team Matches played  Point Rating\n",
       "0      New Zealand             17  2,054    121"
      ]
     },
     "execution_count": 15,
     "metadata": {},
     "output_type": "execute_result"
    }
   ],
   "source": [
    "DF1.head(1)"
   ]
  },
  {
   "cell_type": "code",
   "execution_count": null,
   "id": "12e38fd4",
   "metadata": {},
   "outputs": [],
   "source": []
  },
  {
   "cell_type": "code",
   "execution_count": 16,
   "id": "c4294782",
   "metadata": {},
   "outputs": [],
   "source": [
    "team_name1 = []\n",
    "matches1 = []\n",
    "points1 = []\n",
    "rating1 = []"
   ]
  },
  {
   "cell_type": "code",
   "execution_count": 18,
   "id": "4ba56c95",
   "metadata": {},
   "outputs": [],
   "source": [
    "odi_dataB = soup.findAll('div', attrs= {'class': 'rankings-block__container full rankings-table'})"
   ]
  },
  {
   "cell_type": "code",
   "execution_count": 24,
   "id": "f90849bc",
   "metadata": {},
   "outputs": [],
   "source": [
    "for store in odi_dataB:\n",
    "    name1 = store.find('span',class_ = 'u-hide-phablet').text\n",
    "    team_name1.append(name1)\n",
    "    \n",
    "    game1 = store.find('td',class_ = 'table-body__cell u-center-text').text\n",
    "    matches1.append(game1)\n",
    "    \n",
    "    score1 = store.find('td',class_ = 'table-body__cell u-center-text').text\n",
    "    points1.append(score1)\n",
    "    \n",
    "    rate1 = store.find('td',class_ = 'table-body__cell u-text-right rating').text\n",
    "    rating1.append(rate1)"
   ]
  },
  {
   "cell_type": "code",
   "execution_count": 25,
   "id": "141d36d4",
   "metadata": {},
   "outputs": [
    {
     "data": {
      "text/plain": [
       "'New Zealand'"
      ]
     },
     "execution_count": 25,
     "metadata": {},
     "output_type": "execute_result"
    }
   ],
   "source": [
    "name1"
   ]
  },
  {
   "cell_type": "code",
   "execution_count": 26,
   "id": "9a2d1f2d",
   "metadata": {},
   "outputs": [
    {
     "data": {
      "text/plain": [
       "'25'"
      ]
     },
     "execution_count": 26,
     "metadata": {},
     "output_type": "execute_result"
    }
   ],
   "source": [
    "game1"
   ]
  },
  {
   "cell_type": "code",
   "execution_count": 27,
   "id": "239700cb",
   "metadata": {},
   "outputs": [
    {
     "data": {
      "text/plain": [
       "'25'"
      ]
     },
     "execution_count": 27,
     "metadata": {},
     "output_type": "execute_result"
    }
   ],
   "source": [
    "score1"
   ]
  },
  {
   "cell_type": "code",
   "execution_count": 28,
   "id": "111cbdcb",
   "metadata": {},
   "outputs": [
    {
     "data": {
      "text/plain": [
       "'118'"
      ]
     },
     "execution_count": 28,
     "metadata": {},
     "output_type": "execute_result"
    }
   ],
   "source": [
    "rate1"
   ]
  },
  {
   "cell_type": "code",
   "execution_count": 30,
   "id": "c624643d",
   "metadata": {},
   "outputs": [
    {
     "name": "stdout",
     "output_type": "stream",
     "text": [
      "11\n"
     ]
    }
   ],
   "source": [
    "print(len(name1))"
   ]
  },
  {
   "cell_type": "code",
   "execution_count": 31,
   "id": "87ae3b71",
   "metadata": {},
   "outputs": [],
   "source": [
    "DF2 = pd.DataFrame({'Name of the Team': team_name, 'Matches played': matches, 'Point': points, 'Rating': rating})"
   ]
  },
  {
   "cell_type": "code",
   "execution_count": 32,
   "id": "36fb1044",
   "metadata": {},
   "outputs": [
    {
     "data": {
      "text/html": [
       "<div>\n",
       "<style scoped>\n",
       "    .dataframe tbody tr th:only-of-type {\n",
       "        vertical-align: middle;\n",
       "    }\n",
       "\n",
       "    .dataframe tbody tr th {\n",
       "        vertical-align: top;\n",
       "    }\n",
       "\n",
       "    .dataframe thead th {\n",
       "        text-align: right;\n",
       "    }\n",
       "</style>\n",
       "<table border=\"1\" class=\"dataframe\">\n",
       "  <thead>\n",
       "    <tr style=\"text-align: right;\">\n",
       "      <th></th>\n",
       "      <th>Name of the Team</th>\n",
       "      <th>Matches played</th>\n",
       "      <th>Point</th>\n",
       "      <th>Rating</th>\n",
       "    </tr>\n",
       "  </thead>\n",
       "  <tbody>\n",
       "    <tr>\n",
       "      <th>0</th>\n",
       "      <td>New Zealand</td>\n",
       "      <td>17</td>\n",
       "      <td>2,054</td>\n",
       "      <td>121</td>\n",
       "    </tr>\n",
       "  </tbody>\n",
       "</table>\n",
       "</div>"
      ],
      "text/plain": [
       "  Name of the Team Matches played  Point Rating\n",
       "0      New Zealand             17  2,054    121"
      ]
     },
     "execution_count": 32,
     "metadata": {},
     "output_type": "execute_result"
    }
   ],
   "source": [
    "DF2"
   ]
  },
  {
   "cell_type": "code",
   "execution_count": null,
   "id": "790fecdd",
   "metadata": {},
   "outputs": [],
   "source": []
  }
 ],
 "metadata": {
  "kernelspec": {
   "display_name": "Python 3",
   "language": "python",
   "name": "python3"
  },
  "language_info": {
   "codemirror_mode": {
    "name": "ipython",
    "version": 3
   },
   "file_extension": ".py",
   "mimetype": "text/x-python",
   "name": "python",
   "nbconvert_exporter": "python",
   "pygments_lexer": "ipython3",
   "version": "3.8.8"
  }
 },
 "nbformat": 4,
 "nbformat_minor": 5
}
