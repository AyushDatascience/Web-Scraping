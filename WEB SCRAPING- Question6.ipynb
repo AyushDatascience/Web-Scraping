{
 "cells": [
  {
   "cell_type": "code",
   "execution_count": 1,
   "id": "5da6f636",
   "metadata": {},
   "outputs": [],
   "source": [
    "#6(1).Top 10 ODI teams in women’s cricket along with the records for matches, points and rating.\n"
   ]
  },
  {
   "cell_type": "code",
   "execution_count": 2,
   "id": "b33a54e2",
   "metadata": {},
   "outputs": [],
   "source": [
    "import pandas as pd\n",
    "import requests\n",
    "from bs4 import BeautifulSoup"
   ]
  },
  {
   "cell_type": "code",
   "execution_count": 3,
   "id": "a46b085a",
   "metadata": {},
   "outputs": [],
   "source": [
    "url = \"https://www.icc-cricket.com/rankings/womens/team-rankings/odi\"\n",
    "response = requests.get(url)\n",
    "soup = BeautifulSoup(response.content, 'html.parser')"
   ]
  },
  {
   "cell_type": "code",
   "execution_count": 4,
   "id": "b187f9a5",
   "metadata": {},
   "outputs": [],
   "source": [
    "team_name = []\n",
    "matches = []\n",
    "points = []\n",
    "rating = []"
   ]
  },
  {
   "cell_type": "code",
   "execution_count": 5,
   "id": "d23cb79e",
   "metadata": {},
   "outputs": [],
   "source": [
    "odi_data = soup.findAll('div', attrs= {'class': 'rankings-block__container full rankings-table'})"
   ]
  },
  {
   "cell_type": "code",
   "execution_count": 6,
   "id": "1f852a70",
   "metadata": {},
   "outputs": [],
   "source": [
    "for store in odi_data:\n",
    "    name = store.find('span',class_ = 'u-hide-phablet').text\n",
    "    team_name.append(name)\n",
    "    \n",
    "    game = store.find('td',class_ = 'rankings-block__banner--matches').text\n",
    "    matches.append(game)\n",
    "    \n",
    "    score = store.find('td',class_ = 'rankings-block__banner--points').text\n",
    "    points.append(score)\n",
    "    \n",
    "    rate = store.find('td',class_ = 'rankings-block__banner--rating u-text-right').text.strip()\n",
    "    rating.append(rate)"
   ]
  },
  {
   "cell_type": "code",
   "execution_count": 7,
   "id": "f6985c56",
   "metadata": {},
   "outputs": [
    {
     "data": {
      "text/plain": [
       "'Australia'"
      ]
     },
     "execution_count": 7,
     "metadata": {},
     "output_type": "execute_result"
    }
   ],
   "source": [
    "name"
   ]
  },
  {
   "cell_type": "code",
   "execution_count": 8,
   "id": "406240b0",
   "metadata": {},
   "outputs": [
    {
     "data": {
      "text/plain": [
       "'18'"
      ]
     },
     "execution_count": 8,
     "metadata": {},
     "output_type": "execute_result"
    }
   ],
   "source": [
    "game"
   ]
  },
  {
   "cell_type": "code",
   "execution_count": 9,
   "id": "f72eefa0",
   "metadata": {},
   "outputs": [
    {
     "data": {
      "text/plain": [
       "'2,955'"
      ]
     },
     "execution_count": 9,
     "metadata": {},
     "output_type": "execute_result"
    }
   ],
   "source": [
    "score"
   ]
  },
  {
   "cell_type": "code",
   "execution_count": 10,
   "id": "d829338b",
   "metadata": {},
   "outputs": [
    {
     "data": {
      "text/plain": [
       "'164'"
      ]
     },
     "execution_count": 10,
     "metadata": {},
     "output_type": "execute_result"
    }
   ],
   "source": [
    "rate"
   ]
  },
  {
   "cell_type": "code",
   "execution_count": 11,
   "id": "facaefd1",
   "metadata": {},
   "outputs": [],
   "source": [
    "DF1 = pd.DataFrame({'Name of the Team': team_name, 'Matches played': matches, 'Point': points, 'Rating': rating})"
   ]
  },
  {
   "cell_type": "code",
   "execution_count": 12,
   "id": "cb706fad",
   "metadata": {},
   "outputs": [
    {
     "data": {
      "text/html": [
       "<div>\n",
       "<style scoped>\n",
       "    .dataframe tbody tr th:only-of-type {\n",
       "        vertical-align: middle;\n",
       "    }\n",
       "\n",
       "    .dataframe tbody tr th {\n",
       "        vertical-align: top;\n",
       "    }\n",
       "\n",
       "    .dataframe thead th {\n",
       "        text-align: right;\n",
       "    }\n",
       "</style>\n",
       "<table border=\"1\" class=\"dataframe\">\n",
       "  <thead>\n",
       "    <tr style=\"text-align: right;\">\n",
       "      <th></th>\n",
       "      <th>Name of the Team</th>\n",
       "      <th>Matches played</th>\n",
       "      <th>Point</th>\n",
       "      <th>Rating</th>\n",
       "    </tr>\n",
       "  </thead>\n",
       "  <tbody>\n",
       "    <tr>\n",
       "      <th>0</th>\n",
       "      <td>Australia</td>\n",
       "      <td>18</td>\n",
       "      <td>2,955</td>\n",
       "      <td>164</td>\n",
       "    </tr>\n",
       "  </tbody>\n",
       "</table>\n",
       "</div>"
      ],
      "text/plain": [
       "  Name of the Team Matches played  Point Rating\n",
       "0        Australia             18  2,955    164"
      ]
     },
     "execution_count": 12,
     "metadata": {},
     "output_type": "execute_result"
    }
   ],
   "source": [
    "DF1"
   ]
  },
  {
   "cell_type": "code",
   "execution_count": null,
   "id": "720bfc09",
   "metadata": {},
   "outputs": [],
   "source": []
  }
 ],
 "metadata": {
  "kernelspec": {
   "display_name": "Python 3",
   "language": "python",
   "name": "python3"
  },
  "language_info": {
   "codemirror_mode": {
    "name": "ipython",
    "version": 3
   },
   "file_extension": ".py",
   "mimetype": "text/x-python",
   "name": "python",
   "nbconvert_exporter": "python",
   "pygments_lexer": "ipython3",
   "version": "3.8.8"
  }
 },
 "nbformat": 4,
 "nbformat_minor": 5
}
