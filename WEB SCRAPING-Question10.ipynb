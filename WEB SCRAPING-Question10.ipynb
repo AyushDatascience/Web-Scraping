{
 "cells": [
  {
   "cell_type": "code",
   "execution_count": 1,
   "id": "030b4de1",
   "metadata": {},
   "outputs": [],
   "source": [
    "#10.Write a python program to scrape house details from given url. It should include house title, location, area, emi and price."
   ]
  },
  {
   "cell_type": "code",
   "execution_count": 2,
   "id": "8e20fca6",
   "metadata": {},
   "outputs": [],
   "source": [
    "import pandas as pd\n",
    "import requests\n",
    "from bs4 import BeautifulSoup\n"
   ]
  },
  {
   "cell_type": "code",
   "execution_count": 3,
   "id": "3df1610a",
   "metadata": {},
   "outputs": [],
   "source": [
    "url = \"https://www.nobroker.in/property/sale/bangalore/Bengaluru?searchParam=W3sibGF0IjoxMi45NzE1OTg3LCJsb24iOjc3LjU5NDU2MjcsInBsYWNlSWQiOiJDaElKYlU2MHlYQVdyanNSNEU5LVVlakQzX2ciLCJwbGFjZU5hbWUiOiJCZW5nYWx1cnUiLCJzaG93TWFwIjpmYWxzZX1d\"\n",
    "response = requests.get(url)"
   ]
  },
  {
   "cell_type": "code",
   "execution_count": 4,
   "id": "92a94ddd",
   "metadata": {},
   "outputs": [
    {
     "data": {
      "text/plain": [
       "<Response [200]>"
      ]
     },
     "execution_count": 4,
     "metadata": {},
     "output_type": "execute_result"
    }
   ],
   "source": [
    "response"
   ]
  },
  {
   "cell_type": "code",
   "execution_count": 5,
   "id": "0d168a39",
   "metadata": {},
   "outputs": [],
   "source": [
    "soup = BeautifulSoup(response.content,'html.parser')"
   ]
  },
  {
   "cell_type": "code",
   "execution_count": 6,
   "id": "6b1cd8de",
   "metadata": {},
   "outputs": [],
   "source": [
    "house_name = []\n",
    "location = []\n",
    "area = []\n",
    "emi = []\n",
    "price = []\n"
   ]
  },
  {
   "cell_type": "code",
   "execution_count": 7,
   "id": "6311592b",
   "metadata": {},
   "outputs": [],
   "source": [
    "house_details = soup.findAll('div', attrs= {'class': 'infinite-scroll-component'})\n"
   ]
  },
  {
   "cell_type": "code",
   "execution_count": 8,
   "id": "e32de3ba",
   "metadata": {},
   "outputs": [],
   "source": [
    "for store in house_details:\n",
    "    name = store.find('a',attrs= {'class':\"nb__3CnI6\"}).text\n",
    "    house_name.append(name)\n",
    "    \n",
    "    place = store.find('div',attrs= {'class':\"nb__35Ol7\"}).text\n",
    "    location.append(place)\n",
    "    \n",
    "    space = store.find('div',attrs={'class':\"nb__3oNyC\"}).text\n",
    "    area.append(space)\n",
    "    \n",
    "    installment = store.find('div',attrs={'class':\"font-semi-bold heading-6 nb__2ttoB\"})\n",
    "    emi.append(installment)\n",
    "    \n",
    "    value = store.find('div',attrs={'class':\"font-semi-bold heading-7 nb__2ttoB\"})\n",
    "    price.append(value)"
   ]
  },
  {
   "cell_type": "code",
   "execution_count": 9,
   "id": "b1c7d8aa",
   "metadata": {},
   "outputs": [
    {
     "data": {
      "text/plain": [
       "'4+ BHK Flat  For Sale  In Abbigere '"
      ]
     },
     "execution_count": 9,
     "metadata": {},
     "output_type": "execute_result"
    }
   ],
   "source": [
    "name"
   ]
  },
  {
   "cell_type": "code",
   "execution_count": 10,
   "id": "0194cf94",
   "metadata": {},
   "outputs": [
    {
     "name": "stdout",
     "output_type": "stream",
     "text": [
      "35\n"
     ]
    }
   ],
   "source": [
    "print(len(name))"
   ]
  },
  {
   "cell_type": "code",
   "execution_count": 11,
   "id": "04909621",
   "metadata": {},
   "outputs": [
    {
     "data": {
      "text/plain": [
       "'Standalone Building, sapthagiri layout,Abbigere,chikkabanavara postExplore Nearby'"
      ]
     },
     "execution_count": 11,
     "metadata": {},
     "output_type": "execute_result"
    }
   ],
   "source": [
    "place"
   ]
  },
  {
   "cell_type": "code",
   "execution_count": 12,
   "id": "c6fcad20",
   "metadata": {},
   "outputs": [
    {
     "name": "stdout",
     "output_type": "stream",
     "text": [
      "81\n"
     ]
    }
   ],
   "source": [
    "print(len(place))"
   ]
  },
  {
   "cell_type": "code",
   "execution_count": 13,
   "id": "20a86a52",
   "metadata": {},
   "outputs": [
    {
     "data": {
      "text/plain": [
       "'5,100 sqft'"
      ]
     },
     "execution_count": 13,
     "metadata": {},
     "output_type": "execute_result"
    }
   ],
   "source": [
    "space"
   ]
  },
  {
   "cell_type": "code",
   "execution_count": 14,
   "id": "a8227d4b",
   "metadata": {},
   "outputs": [
    {
     "name": "stdout",
     "output_type": "stream",
     "text": [
      "10\n"
     ]
    }
   ],
   "source": [
    "print(len(space))"
   ]
  },
  {
   "cell_type": "code",
   "execution_count": 15,
   "id": "c53386fc",
   "metadata": {},
   "outputs": [],
   "source": [
    "installment"
   ]
  },
  {
   "cell_type": "code",
   "execution_count": 16,
   "id": "2a1bd8d8",
   "metadata": {},
   "outputs": [],
   "source": [
    "value"
   ]
  },
  {
   "cell_type": "code",
   "execution_count": null,
   "id": "826a105e",
   "metadata": {},
   "outputs": [],
   "source": []
  }
 ],
 "metadata": {
  "kernelspec": {
   "display_name": "Python 3",
   "language": "python",
   "name": "python3"
  },
  "language_info": {
   "codemirror_mode": {
    "name": "ipython",
    "version": 3
   },
   "file_extension": ".py",
   "mimetype": "text/x-python",
   "name": "python",
   "nbconvert_exporter": "python",
   "pygments_lexer": "ipython3",
   "version": "3.8.8"
  }
 },
 "nbformat": 4,
 "nbformat_minor": 5
}
