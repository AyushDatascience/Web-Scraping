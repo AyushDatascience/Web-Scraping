{
 "cells": [
  {
   "cell_type": "code",
   "execution_count": 1,
   "id": "deb25d29",
   "metadata": {},
   "outputs": [],
   "source": [
    "#9.Write a python program to scrape fresher job listings from internshala.which includes jobtitle,company name,CTC,& apply date.\n"
   ]
  },
  {
   "cell_type": "code",
   "execution_count": 2,
   "id": "9f6d0fd1",
   "metadata": {},
   "outputs": [],
   "source": [
    "import bs4\n",
    "import requests\n",
    "from bs4 import BeautifulSoup\n",
    "import pandas as pd\n"
   ]
  },
  {
   "cell_type": "code",
   "execution_count": 3,
   "id": "7a3c8496",
   "metadata": {},
   "outputs": [],
   "source": [
    "link = requests.get(\"https://internshala.com/fresher-jobs\")"
   ]
  },
  {
   "cell_type": "code",
   "execution_count": 4,
   "id": "2ad1df24",
   "metadata": {},
   "outputs": [
    {
     "data": {
      "text/plain": [
       "<Response [200]>"
      ]
     },
     "execution_count": 4,
     "metadata": {},
     "output_type": "execute_result"
    }
   ],
   "source": [
    "link"
   ]
  },
  {
   "cell_type": "code",
   "execution_count": 5,
   "id": "2b0cdffc",
   "metadata": {},
   "outputs": [],
   "source": [
    "soup=BeautifulSoup(link.content)\n"
   ]
  },
  {
   "cell_type": "code",
   "execution_count": 6,
   "id": "df312a4a",
   "metadata": {},
   "outputs": [],
   "source": [
    "job_data = soup.findAll('div', attrs= {'id': 'internship_list_container_1'})"
   ]
  },
  {
   "cell_type": "code",
   "execution_count": 7,
   "id": "e1c0393a",
   "metadata": {},
   "outputs": [
    {
     "data": {
      "text/plain": [
       "'Business Development Specialist '"
      ]
     },
     "execution_count": 7,
     "metadata": {},
     "output_type": "execute_result"
    }
   ],
   "source": [
    "job_title=soup.find('div',class_=\"heading_4_5 profile\").text.replace(\"\\n\",\"\")\n",
    "job_title"
   ]
  },
  {
   "cell_type": "code",
   "execution_count": 10,
   "id": "2e223a13",
   "metadata": {},
   "outputs": [
    {
     "data": {
      "text/plain": [
       "'ProtonAutoML'"
      ]
     },
     "execution_count": 10,
     "metadata": {},
     "output_type": "execute_result"
    }
   ],
   "source": [
    "company_name=soup.find('div',class_=\"heading_6 company_name\").text\n",
    "company_name.strip()"
   ]
  },
  {
   "cell_type": "code",
   "execution_count": null,
   "id": "772547bf",
   "metadata": {},
   "outputs": [],
   "source": []
  },
  {
   "cell_type": "code",
   "execution_count": null,
   "id": "affb694d",
   "metadata": {},
   "outputs": [],
   "source": []
  },
  {
   "cell_type": "code",
   "execution_count": null,
   "id": "38441b3d",
   "metadata": {},
   "outputs": [],
   "source": []
  },
  {
   "cell_type": "code",
   "execution_count": null,
   "id": "d33360c5",
   "metadata": {},
   "outputs": [],
   "source": []
  },
  {
   "cell_type": "code",
   "execution_count": null,
   "id": "5f4f2bce",
   "metadata": {},
   "outputs": [],
   "source": []
  },
  {
   "cell_type": "code",
   "execution_count": null,
   "id": "aa2d78f2",
   "metadata": {},
   "outputs": [],
   "source": []
  }
 ],
 "metadata": {
  "kernelspec": {
   "display_name": "Python 3",
   "language": "python",
   "name": "python3"
  },
  "language_info": {
   "codemirror_mode": {
    "name": "ipython",
    "version": 3
   },
   "file_extension": ".py",
   "mimetype": "text/x-python",
   "name": "python",
   "nbconvert_exporter": "python",
   "pygments_lexer": "ipython3",
   "version": "3.8.8"
  }
 },
 "nbformat": 4,
 "nbformat_minor": 5
}
