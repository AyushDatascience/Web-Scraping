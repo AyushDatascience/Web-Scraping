{
 "cells": [
  {
   "cell_type": "code",
   "execution_count": 1,
   "id": "766677a2",
   "metadata": {},
   "outputs": [],
   "source": [
    "#6(3).Top 10 women’s ODI all-rounder along with the records of their team and rating."
   ]
  },
  {
   "cell_type": "code",
   "execution_count": 2,
   "id": "d3157496",
   "metadata": {},
   "outputs": [],
   "source": [
    "import pandas as pd\n",
    "import requests\n",
    "from bs4 import BeautifulSoup\n"
   ]
  },
  {
   "cell_type": "code",
   "execution_count": 3,
   "id": "c9d3234b",
   "metadata": {},
   "outputs": [],
   "source": [
    "url = \"https://www.icc-cricket.com/rankings/womens/player-rankings/odi/all-rounder\"\n",
    "response = requests.get(url)\n",
    "soup = BeautifulSoup(response.content, 'html.parser')"
   ]
  },
  {
   "cell_type": "code",
   "execution_count": 4,
   "id": "059c9fa1",
   "metadata": {},
   "outputs": [],
   "source": [
    "player_name = []\n",
    "team_name = []\n",
    "rating = []"
   ]
  },
  {
   "cell_type": "code",
   "execution_count": 5,
   "id": "b9bd2d9b",
   "metadata": {},
   "outputs": [],
   "source": [
    "player_data = soup.findAll('div', attrs= {'data-cricket-role': 'all_round'})"
   ]
  },
  {
   "cell_type": "code",
   "execution_count": 6,
   "id": "01c7bac6",
   "metadata": {},
   "outputs": [],
   "source": [
    "for store in player_data:\n",
    "    name = store.find('div',class_ = 'rankings-block__banner--name-large').text.strip()\n",
    "    player_name.append(name)\n",
    "    \n",
    "    team = store.find('div',class_ = 'rankings-block__banner--nationality').text.strip()\n",
    "    team_name.append(team)\n",
    "    \n",
    "    rate = store.find('div',class_ = 'rankings-block__banner--rating').text\n",
    "    rating.append(rate)"
   ]
  },
  {
   "cell_type": "code",
   "execution_count": 7,
   "id": "daec8ed1",
   "metadata": {},
   "outputs": [
    {
     "data": {
      "text/plain": [
       "'Marizanne Kapp'"
      ]
     },
     "execution_count": 7,
     "metadata": {},
     "output_type": "execute_result"
    }
   ],
   "source": [
    "name"
   ]
  },
  {
   "cell_type": "code",
   "execution_count": 8,
   "id": "0af9e4c6",
   "metadata": {},
   "outputs": [
    {
     "data": {
      "text/plain": [
       "'SA'"
      ]
     },
     "execution_count": 8,
     "metadata": {},
     "output_type": "execute_result"
    }
   ],
   "source": [
    "team"
   ]
  },
  {
   "cell_type": "code",
   "execution_count": 9,
   "id": "ec8b084a",
   "metadata": {},
   "outputs": [
    {
     "data": {
      "text/plain": [
       "'418'"
      ]
     },
     "execution_count": 9,
     "metadata": {},
     "output_type": "execute_result"
    }
   ],
   "source": [
    "rate"
   ]
  },
  {
   "cell_type": "code",
   "execution_count": 10,
   "id": "2b7d6d36",
   "metadata": {},
   "outputs": [],
   "source": [
    "DF = pd.DataFrame({'Name of the player': player_name, 'Team': team, 'Rating': rate})"
   ]
  },
  {
   "cell_type": "code",
   "execution_count": 11,
   "id": "7ffe01d2",
   "metadata": {},
   "outputs": [
    {
     "data": {
      "text/html": [
       "<div>\n",
       "<style scoped>\n",
       "    .dataframe tbody tr th:only-of-type {\n",
       "        vertical-align: middle;\n",
       "    }\n",
       "\n",
       "    .dataframe tbody tr th {\n",
       "        vertical-align: top;\n",
       "    }\n",
       "\n",
       "    .dataframe thead th {\n",
       "        text-align: right;\n",
       "    }\n",
       "</style>\n",
       "<table border=\"1\" class=\"dataframe\">\n",
       "  <thead>\n",
       "    <tr style=\"text-align: right;\">\n",
       "      <th></th>\n",
       "      <th>Name of the player</th>\n",
       "      <th>Team</th>\n",
       "      <th>Rating</th>\n",
       "    </tr>\n",
       "  </thead>\n",
       "  <tbody>\n",
       "    <tr>\n",
       "      <th>0</th>\n",
       "      <td>Marizanne Kapp</td>\n",
       "      <td>SA</td>\n",
       "      <td>418</td>\n",
       "    </tr>\n",
       "  </tbody>\n",
       "</table>\n",
       "</div>"
      ],
      "text/plain": [
       "  Name of the player Team Rating\n",
       "0     Marizanne Kapp   SA    418"
      ]
     },
     "execution_count": 11,
     "metadata": {},
     "output_type": "execute_result"
    }
   ],
   "source": [
    "DF"
   ]
  },
  {
   "cell_type": "code",
   "execution_count": null,
   "id": "726090f3",
   "metadata": {},
   "outputs": [],
   "source": []
  }
 ],
 "metadata": {
  "kernelspec": {
   "display_name": "Python 3",
   "language": "python",
   "name": "python3"
  },
  "language_info": {
   "codemirror_mode": {
    "name": "ipython",
    "version": 3
   },
   "file_extension": ".py",
   "mimetype": "text/x-python",
   "name": "python",
   "nbconvert_exporter": "python",
   "pygments_lexer": "ipython3",
   "version": "3.8.8"
  }
 },
 "nbformat": 4,
 "nbformat_minor": 5
}
