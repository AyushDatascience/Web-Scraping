{
 "cells": [
  {
   "cell_type": "code",
   "execution_count": 1,
   "id": "805a9295",
   "metadata": {},
   "outputs": [],
   "source": [
    "#7.Write a python program to scrape details of all the mobile phones under Rs. 20,000 listed on Amazon.in.The\n",
    "#  scraped data should include Product Name, Price, Image URL and Average Rating."
   ]
  },
  {
   "cell_type": "code",
   "execution_count": 2,
   "id": "33724103",
   "metadata": {},
   "outputs": [],
   "source": [
    "import pandas as pd\n",
    "import numpy as np\n",
    "import requests\n",
    "from bs4 import BeautifulSoup\n",
    "from time import sleep\n",
    "from random import randint"
   ]
  },
  {
   "cell_type": "code",
   "execution_count": 3,
   "id": "2b0ef573",
   "metadata": {},
   "outputs": [],
   "source": [
    "product_name = []\n",
    "price = []\n",
    "image_url = []\n",
    "averagerating = []"
   ]
  },
  {
   "cell_type": "code",
   "execution_count": 8,
   "id": "e0da3719",
   "metadata": {},
   "outputs": [
    {
     "ename": "SyntaxError",
     "evalue": "invalid syntax (<ipython-input-8-e9c911eba55e>, line 3)",
     "output_type": "error",
     "traceback": [
      "\u001b[1;36m  File \u001b[1;32m\"<ipython-input-8-e9c911eba55e>\"\u001b[1;36m, line \u001b[1;32m3\u001b[0m\n\u001b[1;33m    req = requests.get(\"https://www.amazon.in/s?k=mobile+under+20000&crid=1RG3SVL2HXRCQ&qid=1624624547&sprefix=mobile+under+%2Caps%2C295&ref=sr_pg_1={}\".format.(page))\u001b[0m\n\u001b[1;37m                                                                                                                                                                ^\u001b[0m\n\u001b[1;31mSyntaxError\u001b[0m\u001b[1;31m:\u001b[0m invalid syntax\n"
     ]
    }
   ],
   "source": [
    "pages = list(range(1,21))\n",
    "for page in pages:\n",
    "    req = requests.get(\"https://www.amazon.in/s?k=mobile+under+20000&crid=1RG3SVL2HXRCQ&qid=1624624547&sprefix=mobile+under+%2Caps%2C295&ref=sr_pg_1={}\".format.(page))"
   ]
  },
  {
   "cell_type": "code",
   "execution_count": 5,
   "id": "4f26680c",
   "metadata": {},
   "outputs": [],
   "source": [
    "\n",
    "   \n",
    "     \n",
    "    \n",
    "    "
   ]
  },
  {
   "cell_type": "code",
   "execution_count": null,
   "id": "4c0def40",
   "metadata": {},
   "outputs": [],
   "source": []
  },
  {
   "cell_type": "code",
   "execution_count": null,
   "id": "8c8c67c3",
   "metadata": {},
   "outputs": [],
   "source": []
  }
 ],
 "metadata": {
  "kernelspec": {
   "display_name": "Python 3",
   "language": "python",
   "name": "python3"
  },
  "language_info": {
   "codemirror_mode": {
    "name": "ipython",
    "version": 3
   },
   "file_extension": ".py",
   "mimetype": "text/x-python",
   "name": "python",
   "nbconvert_exporter": "python",
   "pygments_lexer": "ipython3",
   "version": "3.8.8"
  }
 },
 "nbformat": 4,
 "nbformat_minor": 5
}
