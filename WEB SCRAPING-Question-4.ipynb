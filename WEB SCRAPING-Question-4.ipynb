{
 "cells": [
  {
   "cell_type": "code",
   "execution_count": 1,
   "id": "e3ae098a",
   "metadata": {},
   "outputs": [],
   "source": [
    "#4. Write a python program to scrap book name, author name, genre and book review of any 5 books."
   ]
  },
  {
   "cell_type": "code",
   "execution_count": 2,
   "id": "0b832274",
   "metadata": {},
   "outputs": [],
   "source": [
    "import pandas as pd\n",
    "import requests\n",
    "from bs4 import BeautifulSoup"
   ]
  },
  {
   "cell_type": "code",
   "execution_count": 3,
   "id": "d0979f23",
   "metadata": {},
   "outputs": [],
   "source": [
    "url = \"https://bookpage.com/reviews\"\n",
    "response = requests.get(url)\n",
    "soup = BeautifulSoup(response.content,'html.parser')"
   ]
  },
  {
   "cell_type": "code",
   "execution_count": 4,
   "id": "277a7b0c",
   "metadata": {},
   "outputs": [],
   "source": [
    "title_name = []\n",
    "author_name = []\n",
    "genre = []\n",
    "book_review = []"
   ]
  },
  {
   "cell_type": "code",
   "execution_count": 5,
   "id": "6321ed1b",
   "metadata": {},
   "outputs": [],
   "source": [
    "book_data = soup.findAll('div', attrs= {'class': 'row-fluid article-row'})"
   ]
  },
  {
   "cell_type": "code",
   "execution_count": 6,
   "id": "3633fb7d",
   "metadata": {},
   "outputs": [],
   "source": [
    "for store in book_data:\n",
    "    \n",
    "    title = store.h4.a.text\n",
    "    title_name.append(title)\n",
    "    \n",
    "    name = store.div.find('p', class_ = 'sans bold').text.strip()\n",
    "    author_name.append(name)\n",
    "    \n",
    "    type = store.div.find('p', class_ = 'genre-links').text.strip()\n",
    "    genre.append(type)\n",
    "    \n",
    "    review = store.div.find('p', class_ = 'excerpt').text.strip()\n",
    "    book_review.append(review)"
   ]
  },
  {
   "cell_type": "code",
   "execution_count": 7,
   "id": "61019e35",
   "metadata": {},
   "outputs": [
    {
     "data": {
      "text/plain": [
       "'The Damage'"
      ]
     },
     "execution_count": 7,
     "metadata": {},
     "output_type": "execute_result"
    }
   ],
   "source": [
    "title"
   ]
  },
  {
   "cell_type": "code",
   "execution_count": 8,
   "id": "78e7554d",
   "metadata": {},
   "outputs": [
    {
     "data": {
      "text/plain": [
       "'Caitlin Wahrer'"
      ]
     },
     "execution_count": 8,
     "metadata": {},
     "output_type": "execute_result"
    }
   ],
   "source": [
    "name"
   ]
  },
  {
   "cell_type": "code",
   "execution_count": 9,
   "id": "fe383d9a",
   "metadata": {},
   "outputs": [
    {
     "data": {
      "text/plain": [
       "'Mystery & Suspense\\n / \\nSuspense'"
      ]
     },
     "execution_count": 9,
     "metadata": {},
     "output_type": "execute_result"
    }
   ],
   "source": [
    "type"
   ]
  },
  {
   "cell_type": "code",
   "execution_count": 10,
   "id": "3f6e24bb",
   "metadata": {},
   "outputs": [
    {
     "data": {
      "text/plain": [
       "'With twists worthy of a season finale of “Law & Order: SVU,” The Damage explores a family’s struggle in the aftermath of a violent sexual assault.'"
      ]
     },
     "execution_count": 10,
     "metadata": {},
     "output_type": "execute_result"
    }
   ],
   "source": [
    "review"
   ]
  },
  {
   "cell_type": "code",
   "execution_count": 11,
   "id": "7c0adda9",
   "metadata": {},
   "outputs": [],
   "source": [
    "book_DF = pd.DataFrame({'Name of the book': title_name, 'Author name': author_name, 'Genre': genre, 'Review': book_review})\n",
    "\n"
   ]
  },
  {
   "cell_type": "code",
   "execution_count": 12,
   "id": "a2ad0b84",
   "metadata": {},
   "outputs": [
    {
     "data": {
      "text/html": [
       "<div>\n",
       "<style scoped>\n",
       "    .dataframe tbody tr th:only-of-type {\n",
       "        vertical-align: middle;\n",
       "    }\n",
       "\n",
       "    .dataframe tbody tr th {\n",
       "        vertical-align: top;\n",
       "    }\n",
       "\n",
       "    .dataframe thead th {\n",
       "        text-align: right;\n",
       "    }\n",
       "</style>\n",
       "<table border=\"1\" class=\"dataframe\">\n",
       "  <thead>\n",
       "    <tr style=\"text-align: right;\">\n",
       "      <th></th>\n",
       "      <th>Name of the book</th>\n",
       "      <th>Author name</th>\n",
       "      <th>Genre</th>\n",
       "      <th>Review</th>\n",
       "    </tr>\n",
       "  </thead>\n",
       "  <tbody>\n",
       "    <tr>\n",
       "      <th>0</th>\n",
       "      <td>★ Festival Days</td>\n",
       "      <td>Jo Ann Beard, Suehyla El-Attar</td>\n",
       "      <td>Audio\\n / \\nNonfiction\\n / \\nEssays</td>\n",
       "      <td>Actor Suehyla El-Attar reads in a calm, steady...</td>\n",
       "    </tr>\n",
       "    <tr>\n",
       "      <th>1</th>\n",
       "      <td>Listen</td>\n",
       "      <td>Gabi Snyder, Stephanie Graegin</td>\n",
       "      <td>Children's\\n / \\nChildren's Picture Book</td>\n",
       "      <td>In the opening pages of Listen, a girl stands ...</td>\n",
       "    </tr>\n",
       "    <tr>\n",
       "      <th>2</th>\n",
       "      <td>★ Rise to the Sun</td>\n",
       "      <td>Leah Johnson</td>\n",
       "      <td>YA\\n / \\nYA Fiction</td>\n",
       "      <td>Leah Johnson’s second novel, Rise to the Sun, ...</td>\n",
       "    </tr>\n",
       "    <tr>\n",
       "      <th>3</th>\n",
       "      <td>Filthy Animals</td>\n",
       "      <td>Brandon Taylor</td>\n",
       "      <td>Fiction\\n / \\nShort Stories</td>\n",
       "      <td>In Brandon Taylor’s short story collection, se...</td>\n",
       "    </tr>\n",
       "    <tr>\n",
       "      <th>4</th>\n",
       "      <td>The Woman They Could Not Silence</td>\n",
       "      <td>Kate Moore</td>\n",
       "      <td>Nonfiction\\n / \\nHistory\\n / \\nWomen's History</td>\n",
       "      <td>In the 19th century, a brave, brilliant and co...</td>\n",
       "    </tr>\n",
       "  </tbody>\n",
       "</table>\n",
       "</div>"
      ],
      "text/plain": [
       "                   Name of the book                     Author name  \\\n",
       "0                   ★ Festival Days  Jo Ann Beard, Suehyla El-Attar   \n",
       "1                            Listen  Gabi Snyder, Stephanie Graegin   \n",
       "2                 ★ Rise to the Sun                    Leah Johnson   \n",
       "3                    Filthy Animals                  Brandon Taylor   \n",
       "4  The Woman They Could Not Silence                      Kate Moore   \n",
       "\n",
       "                                            Genre  \\\n",
       "0             Audio\\n / \\nNonfiction\\n / \\nEssays   \n",
       "1        Children's\\n / \\nChildren's Picture Book   \n",
       "2                             YA\\n / \\nYA Fiction   \n",
       "3                     Fiction\\n / \\nShort Stories   \n",
       "4  Nonfiction\\n / \\nHistory\\n / \\nWomen's History   \n",
       "\n",
       "                                              Review  \n",
       "0  Actor Suehyla El-Attar reads in a calm, steady...  \n",
       "1  In the opening pages of Listen, a girl stands ...  \n",
       "2  Leah Johnson’s second novel, Rise to the Sun, ...  \n",
       "3  In Brandon Taylor’s short story collection, se...  \n",
       "4  In the 19th century, a brave, brilliant and co...  "
      ]
     },
     "execution_count": 12,
     "metadata": {},
     "output_type": "execute_result"
    }
   ],
   "source": [
    "book_DF.head(5)"
   ]
  },
  {
   "cell_type": "code",
   "execution_count": null,
   "id": "1e2112fc",
   "metadata": {},
   "outputs": [],
   "source": []
  },
  {
   "cell_type": "code",
   "execution_count": null,
   "id": "b96ee6e2",
   "metadata": {},
   "outputs": [],
   "source": []
  }
 ],
 "metadata": {
  "kernelspec": {
   "display_name": "Python 3",
   "language": "python",
   "name": "python3"
  },
  "language_info": {
   "codemirror_mode": {
    "name": "ipython",
    "version": 3
   },
   "file_extension": ".py",
   "mimetype": "text/x-python",
   "name": "python",
   "nbconvert_exporter": "python",
   "pygments_lexer": "ipython3",
   "version": "3.8.8"
  }
 },
 "nbformat": 4,
 "nbformat_minor": 5
}
