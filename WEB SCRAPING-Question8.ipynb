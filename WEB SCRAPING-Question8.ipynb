{
 "cells": [
  {
   "cell_type": "code",
   "execution_count": 1,
   "id": "8cde7c2f",
   "metadata": {},
   "outputs": [],
   "source": [
    "#8. 7day extended forecast display for the San Francisco.The data should include period,short description,temp and description."
   ]
  },
  {
   "cell_type": "code",
   "execution_count": 2,
   "id": "9811e9c2",
   "metadata": {},
   "outputs": [],
   "source": [
    "import pandas as pd\n",
    "import requests\n",
    "from bs4 import BeautifulSoup\n"
   ]
  },
  {
   "cell_type": "code",
   "execution_count": 31,
   "id": "71930c9f",
   "metadata": {},
   "outputs": [],
   "source": [
    "url = \"https://forecast.weather.gov/MapClick.php?lat=37.777120000000025&lon=-122.41963999999996#.YNHlmGgzY2w\"\n",
    "response = requests.get(url)\n",
    "soup = BeautifulSoup(response.content,'lxml')"
   ]
  },
  {
   "cell_type": "code",
   "execution_count": 32,
   "id": "45124220",
   "metadata": {},
   "outputs": [],
   "source": [
    "period = []\n",
    "short_description = []\n",
    "temperature = []\n"
   ]
  },
  {
   "cell_type": "code",
   "execution_count": 34,
   "id": "bc9e3905",
   "metadata": {},
   "outputs": [],
   "source": [
    "DF1 = soup.findAll('div', attrs= {'id':'seven-day-forecast-container'})"
   ]
  },
  {
   "cell_type": "code",
   "execution_count": 35,
   "id": "4b9602b3",
   "metadata": {},
   "outputs": [],
   "source": [
    "for store in DF1:\n",
    "    time = store.div.find('p', class_ = 'period-name').text\n",
    "    period.append(time)\n",
    "    \n",
    "    des = store.div.find('p', class_ = 'short-desc').text\n",
    "    short_description.append(des)\n",
    "    \n",
    "    temp = store.div.find('p', class_ = 'temp temp-high').text\n",
    "    temperature.append(temp)\n",
    "    \n",
    "   "
   ]
  },
  {
   "cell_type": "code",
   "execution_count": 36,
   "id": "44f95ff9",
   "metadata": {},
   "outputs": [
    {
     "data": {
      "text/plain": [
       "'Today'"
      ]
     },
     "execution_count": 36,
     "metadata": {},
     "output_type": "execute_result"
    }
   ],
   "source": [
    "time"
   ]
  },
  {
   "cell_type": "code",
   "execution_count": 37,
   "id": "1270377c",
   "metadata": {},
   "outputs": [
    {
     "data": {
      "text/plain": [
       "'Mostly Cloudythen MostlySunny andBreezy'"
      ]
     },
     "execution_count": 37,
     "metadata": {},
     "output_type": "execute_result"
    }
   ],
   "source": [
    "des"
   ]
  },
  {
   "cell_type": "code",
   "execution_count": 38,
   "id": "0cc06230",
   "metadata": {},
   "outputs": [
    {
     "data": {
      "text/plain": [
       "'High: 70 °F'"
      ]
     },
     "execution_count": 38,
     "metadata": {},
     "output_type": "execute_result"
    }
   ],
   "source": [
    "temp"
   ]
  },
  {
   "cell_type": "code",
   "execution_count": 39,
   "id": "da65e30d",
   "metadata": {},
   "outputs": [
    {
     "name": "stdout",
     "output_type": "stream",
     "text": [
      "1\n",
      "1\n",
      "1\n"
     ]
    }
   ],
   "source": [
    "print(len(period))\n",
    "print(len(short_description))\n",
    "print(len(temperature))\n"
   ]
  },
  {
   "cell_type": "code",
   "execution_count": 29,
   "id": "ecce542e",
   "metadata": {},
   "outputs": [],
   "source": [
    "DF1 = pd.DataFrame({'Period': period, 'short_description': short_description, 'temp': temperature})"
   ]
  },
  {
   "cell_type": "code",
   "execution_count": 30,
   "id": "6273b4d8",
   "metadata": {},
   "outputs": [
    {
     "data": {
      "text/html": [
       "<div>\n",
       "<style scoped>\n",
       "    .dataframe tbody tr th:only-of-type {\n",
       "        vertical-align: middle;\n",
       "    }\n",
       "\n",
       "    .dataframe tbody tr th {\n",
       "        vertical-align: top;\n",
       "    }\n",
       "\n",
       "    .dataframe thead th {\n",
       "        text-align: right;\n",
       "    }\n",
       "</style>\n",
       "<table border=\"1\" class=\"dataframe\">\n",
       "  <thead>\n",
       "    <tr style=\"text-align: right;\">\n",
       "      <th></th>\n",
       "      <th>Period</th>\n",
       "      <th>short_description</th>\n",
       "      <th>temp</th>\n",
       "    </tr>\n",
       "  </thead>\n",
       "  <tbody>\n",
       "    <tr>\n",
       "      <th>0</th>\n",
       "      <td>Today</td>\n",
       "      <td>Mostly Cloudythen MostlySunny andBreezy</td>\n",
       "      <td>High: 70 °F</td>\n",
       "    </tr>\n",
       "  </tbody>\n",
       "</table>\n",
       "</div>"
      ],
      "text/plain": [
       "  Period                        short_description         temp\n",
       "0  Today  Mostly Cloudythen MostlySunny andBreezy  High: 70 °F"
      ]
     },
     "execution_count": 30,
     "metadata": {},
     "output_type": "execute_result"
    }
   ],
   "source": [
    "DF1"
   ]
  },
  {
   "cell_type": "code",
   "execution_count": null,
   "id": "d4012bc8",
   "metadata": {},
   "outputs": [],
   "source": []
  },
  {
   "cell_type": "code",
   "execution_count": null,
   "id": "b12d7f7e",
   "metadata": {},
   "outputs": [],
   "source": []
  }
 ],
 "metadata": {
  "kernelspec": {
   "display_name": "Python 3",
   "language": "python",
   "name": "python3"
  },
  "language_info": {
   "codemirror_mode": {
    "name": "ipython",
    "version": 3
   },
   "file_extension": ".py",
   "mimetype": "text/x-python",
   "name": "python",
   "nbconvert_exporter": "python",
   "pygments_lexer": "ipython3",
   "version": "3.8.8"
  }
 },
 "nbformat": 4,
 "nbformat_minor": 5
}
